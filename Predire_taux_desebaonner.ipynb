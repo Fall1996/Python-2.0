{
 "cells": [
  {
   "cell_type": "code",
   "execution_count": 1,
   "id": "fc157e5d",
   "metadata": {},
   "outputs": [
    {
     "name": "stderr",
     "output_type": "stream",
     "text": [
      "C:\\Users\\22177\\AppData\\Roaming\\Python\\Python39\\site-packages\\pandas\\core\\computation\\expressions.py:21: UserWarning: Pandas requires version '2.8.4' or newer of 'numexpr' (version '2.8.1' currently installed).\n",
      "  from pandas.core.computation.check import NUMEXPR_INSTALLED\n",
      "C:\\Users\\22177\\AppData\\Roaming\\Python\\Python39\\site-packages\\pandas\\core\\arrays\\masked.py:60: UserWarning: Pandas requires version '1.3.6' or newer of 'bottleneck' (version '1.3.4' currently installed).\n",
      "  from pandas.core import (\n",
      "C:\\Users\\22177\\AppData\\Roaming\\Python\\Python39\\site-packages\\matplotlib\\projections\\__init__.py:63: UserWarning: Unable to import Axes3D. This may be due to multiple versions of Matplotlib being installed (e.g. as a system package and as a pip package). As a result, the 3D projection is not available.\n",
      "  warnings.warn(\"Unable to import Axes3D. This may be due to multiple versions of \"\n"
     ]
    }
   ],
   "source": [
    "import pandas as pd\n",
    "import numpy as np\n",
    "import matplotlib.pyplot as plt\n",
    "import seaborn as sn\n"
   ]
  },
  {
   "cell_type": "code",
   "execution_count": 4,
   "id": "27fae3d8",
   "metadata": {},
   "outputs": [],
   "source": [
    "data= pd.read_csv('Telecom-Data-1.csv',sep=';')"
   ]
  },
  {
   "cell_type": "code",
   "execution_count": 5,
   "id": "eeaa5b00",
   "metadata": {},
   "outputs": [
    {
     "data": {
      "text/html": [
       "<div>\n",
       "<style scoped>\n",
       "    .dataframe tbody tr th:only-of-type {\n",
       "        vertical-align: middle;\n",
       "    }\n",
       "\n",
       "    .dataframe tbody tr th {\n",
       "        vertical-align: top;\n",
       "    }\n",
       "\n",
       "    .dataframe thead th {\n",
       "        text-align: right;\n",
       "    }\n",
       "</style>\n",
       "<table border=\"1\" class=\"dataframe\">\n",
       "  <thead>\n",
       "    <tr style=\"text-align: right;\">\n",
       "      <th></th>\n",
       "      <th>ID</th>\n",
       "      <th>Genre</th>\n",
       "      <th>Senior</th>\n",
       "      <th>Enfants</th>\n",
       "      <th>Anciennete</th>\n",
       "      <th>Multi-lignes</th>\n",
       "      <th>Service Internet</th>\n",
       "      <th>Autres Services</th>\n",
       "      <th>Partenaire</th>\n",
       "      <th>Contrat</th>\n",
       "      <th>Facturation electronique</th>\n",
       "      <th>Mode de paiement</th>\n",
       "      <th>charges mensuelles</th>\n",
       "      <th>Charges totales</th>\n",
       "      <th>Desabonnement</th>\n",
       "    </tr>\n",
       "  </thead>\n",
       "  <tbody>\n",
       "    <tr>\n",
       "      <th>0</th>\n",
       "      <td>1</td>\n",
       "      <td>Femme</td>\n",
       "      <td>0</td>\n",
       "      <td>Non</td>\n",
       "      <td>1</td>\n",
       "      <td>Non</td>\n",
       "      <td>DSL</td>\n",
       "      <td>Non</td>\n",
       "      <td>Oui</td>\n",
       "      <td>Mensuel</td>\n",
       "      <td>Oui</td>\n",
       "      <td>Cheque electronique</td>\n",
       "      <td>29,85</td>\n",
       "      <td>29,85</td>\n",
       "      <td>Non</td>\n",
       "    </tr>\n",
       "    <tr>\n",
       "      <th>1</th>\n",
       "      <td>2</td>\n",
       "      <td>Homme</td>\n",
       "      <td>0</td>\n",
       "      <td>Non</td>\n",
       "      <td>34</td>\n",
       "      <td>Non</td>\n",
       "      <td>DSL</td>\n",
       "      <td>Oui</td>\n",
       "      <td>Non</td>\n",
       "      <td>Annuel</td>\n",
       "      <td>Non</td>\n",
       "      <td>Cheque papier</td>\n",
       "      <td>56,95</td>\n",
       "      <td>1889,5</td>\n",
       "      <td>Non</td>\n",
       "    </tr>\n",
       "    <tr>\n",
       "      <th>2</th>\n",
       "      <td>3</td>\n",
       "      <td>Homme</td>\n",
       "      <td>0</td>\n",
       "      <td>Non</td>\n",
       "      <td>2</td>\n",
       "      <td>Non</td>\n",
       "      <td>DSL</td>\n",
       "      <td>Oui</td>\n",
       "      <td>Non</td>\n",
       "      <td>Mensuel</td>\n",
       "      <td>Oui</td>\n",
       "      <td>Cheque papier</td>\n",
       "      <td>53,85</td>\n",
       "      <td>108,15</td>\n",
       "      <td>Oui</td>\n",
       "    </tr>\n",
       "    <tr>\n",
       "      <th>3</th>\n",
       "      <td>4</td>\n",
       "      <td>Homme</td>\n",
       "      <td>0</td>\n",
       "      <td>Non</td>\n",
       "      <td>45</td>\n",
       "      <td>Non</td>\n",
       "      <td>DSL</td>\n",
       "      <td>Non</td>\n",
       "      <td>Non</td>\n",
       "      <td>Annuel</td>\n",
       "      <td>Non</td>\n",
       "      <td>Virement bancaire</td>\n",
       "      <td>42,3</td>\n",
       "      <td>1840,75</td>\n",
       "      <td>Non</td>\n",
       "    </tr>\n",
       "    <tr>\n",
       "      <th>4</th>\n",
       "      <td>5</td>\n",
       "      <td>Femme</td>\n",
       "      <td>0</td>\n",
       "      <td>Non</td>\n",
       "      <td>2</td>\n",
       "      <td>Non</td>\n",
       "      <td>Fibre optique</td>\n",
       "      <td>Oui</td>\n",
       "      <td>Non</td>\n",
       "      <td>Mensuel</td>\n",
       "      <td>Oui</td>\n",
       "      <td>Cheque electronique</td>\n",
       "      <td>70,7</td>\n",
       "      <td>151,65</td>\n",
       "      <td>Oui</td>\n",
       "    </tr>\n",
       "  </tbody>\n",
       "</table>\n",
       "</div>"
      ],
      "text/plain": [
       "   ID  Genre  Senior Enfants  Anciennete Multi-lignes Service Internet  \\\n",
       "0   1  Femme       0     Non           1          Non              DSL   \n",
       "1   2  Homme       0     Non          34          Non              DSL   \n",
       "2   3  Homme       0     Non           2          Non              DSL   \n",
       "3   4  Homme       0     Non          45          Non              DSL   \n",
       "4   5  Femme       0     Non           2          Non    Fibre optique   \n",
       "\n",
       "  Autres Services Partenaire  Contrat Facturation electronique  \\\n",
       "0             Non        Oui  Mensuel                      Oui   \n",
       "1             Oui        Non   Annuel                      Non   \n",
       "2             Oui        Non  Mensuel                      Oui   \n",
       "3             Non        Non   Annuel                      Non   \n",
       "4             Oui        Non  Mensuel                      Oui   \n",
       "\n",
       "      Mode de paiement charges mensuelles Charges totales Desabonnement  \n",
       "0  Cheque electronique              29,85           29,85           Non  \n",
       "1        Cheque papier              56,95          1889,5           Non  \n",
       "2        Cheque papier              53,85          108,15           Oui  \n",
       "3    Virement bancaire               42,3         1840,75           Non  \n",
       "4  Cheque electronique               70,7          151,65           Oui  "
      ]
     },
     "execution_count": 5,
     "metadata": {},
     "output_type": "execute_result"
    }
   ],
   "source": [
    "data.head()"
   ]
  },
  {
   "cell_type": "markdown",
   "id": "eee48eed",
   "metadata": {},
   "source": [
    "## Base de données\n",
    "Cette base de données est disponible sur le site [Management&DataScience](https://management-datascience.org/projects/29772/?cookie-state-change=1719746415153).\n",
    "\n",
    "## Contenu de la base de données\n",
    "\n",
    "Ce projet comporte une base de données qui contient 15 variables et chaque variable est décrit comme suit:\n",
    "\n",
    "- 'ID' :c'est l'identification du client et ca lui porte unique,\n",
    "- 'Genre' :Il s'identifie le sexe du client.\n",
    "- 'Senior' : indique si le client a 65 ans ou plus : Oui, Non\n",
    "- 'Enfant': indique si le client a des enfants à charge.\n",
    "- 'Ancienneté' : depuis combien de temps (en mois) il est client\n",
    "- 'lignes multiples' : si le client a plusieurs lignes ou non\n",
    "- 'services internet' : type de fourniture d’accès Internet du client (DSL, Fibre optique, Non).\n",
    "- 'Autre service' : si le client dispose ou non d’une sécurité en ligne.\n",
    "- 'Partenaire' : si le client a un partenaire.\n",
    "- 'type de contrat',\n",
    "- 'mode de paiement',\n",
    "- 'facturation sans papier',\n",
    "- 'frais mensuels',\n",
    "- 'frais totaux'.\n",
    "\n",
    "## Objectif du projet\n",
    "l'objectif de ce projet est de construire un model de machine learning qui prédit, si un client se désabonne d'un fournisseur d'acces à l'internet ou pas, en fonction de ces caracterisques. cette base de données sera divisée à un ensemble d'apprentissage et de test pour entrainer et évaluer la performance du model. "
   ]
  },
  {
   "cell_type": "code",
   "execution_count": 6,
   "id": "d381cb6b",
   "metadata": {},
   "outputs": [
    {
     "name": "stdout",
     "output_type": "stream",
     "text": [
      "<class 'pandas.core.frame.DataFrame'>\n",
      "RangeIndex: 5986 entries, 0 to 5985\n",
      "Data columns (total 15 columns):\n",
      " #   Column                    Non-Null Count  Dtype \n",
      "---  ------                    --------------  ----- \n",
      " 0   ID                        5986 non-null   int64 \n",
      " 1   Genre                     5986 non-null   object\n",
      " 2   Senior                    5986 non-null   int64 \n",
      " 3   Enfants                   5986 non-null   object\n",
      " 4   Anciennete                5986 non-null   int64 \n",
      " 5   Multi-lignes              5986 non-null   object\n",
      " 6   Service Internet          5986 non-null   object\n",
      " 7   Autres Services           5986 non-null   object\n",
      " 8   Partenaire                5986 non-null   object\n",
      " 9   Contrat                   5986 non-null   object\n",
      " 10  Facturation electronique  5986 non-null   object\n",
      " 11  Mode de paiement          5986 non-null   object\n",
      " 12  charges mensuelles        5985 non-null   object\n",
      " 13  Charges totales           5975 non-null   object\n",
      " 14  Desabonnement             5986 non-null   object\n",
      "dtypes: int64(3), object(12)\n",
      "memory usage: 701.6+ KB\n"
     ]
    }
   ],
   "source": [
    "# afficher les information du base du données\n",
    "data.info()"
   ]
  },
  {
   "cell_type": "code",
   "execution_count": 12,
   "id": "02e5c1cc",
   "metadata": {},
   "outputs": [
    {
     "data": {
      "text/plain": [
       "ID                          0\n",
       "Genre                       0\n",
       "Senior                      0\n",
       "Enfants                     0\n",
       "Anciennete                  0\n",
       "Multi-lignes                0\n",
       "Service Internet            0\n",
       "Autres Services             0\n",
       "Partenaire                  0\n",
       "Contrat                     0\n",
       "Facturation electronique    0\n",
       "Mode de paiement            0\n",
       "charges mensuelles          0\n",
       "Charges totales             0\n",
       "Desabonnement               0\n",
       "dtype: int64"
      ]
     },
     "execution_count": 12,
     "metadata": {},
     "output_type": "execute_result"
    }
   ],
   "source": [
    "# Calcul le nombre valeurs manquantent\n",
    "data.isnull().sum()"
   ]
  },
  {
   "cell_type": "code",
   "execution_count": 11,
   "id": "5c601472",
   "metadata": {},
   "outputs": [
    {
     "name": "stderr",
     "output_type": "stream",
     "text": [
      "C:\\Users\\22177\\AppData\\Local\\Temp\\ipykernel_4440\\435086353.py:4: FutureWarning: A value is trying to be set on a copy of a DataFrame or Series through chained assignment using an inplace method.\n",
      "The behavior will change in pandas 3.0. This inplace method will never work because the intermediate object on which we are setting values always behaves as a copy.\n",
      "\n",
      "For example, when doing 'df[col].method(value, inplace=True)', try using 'df.method({col: value}, inplace=True)' or df[col] = df[col].method(value) instead, to perform the operation inplace on the original object.\n",
      "\n",
      "\n",
      "  data[column].fillna(mode_value, inplace=True)\n"
     ]
    }
   ],
   "source": [
    "# Remplacer les valeurs nulles par les modes des colonnes catégorielles\n",
    "for column in data.select_dtypes(include=['object', 'category']).columns:\n",
    "    mode_value = data[column].mode()[0]\n",
    "    data[column].fillna(mode_value, inplace=True)\n"
   ]
  },
  {
   "cell_type": "code",
   "execution_count": 13,
   "id": "5706daf6",
   "metadata": {},
   "outputs": [],
   "source": [
    "# convertion de la variabe totalcharges en numérique\n",
    "data['Charges totales'] = pd.to_numeric(data['Charges totales'], errors='coerce')\n",
    "data['charges mensuelles'] = pd.to_numeric(data['charges mensuelles'], errors='coerce')\n"
   ]
  },
  {
   "cell_type": "code",
   "execution_count": 15,
   "id": "be65dac3",
   "metadata": {},
   "outputs": [
    {
     "data": {
      "text/html": [
       "<div>\n",
       "<style scoped>\n",
       "    .dataframe tbody tr th:only-of-type {\n",
       "        vertical-align: middle;\n",
       "    }\n",
       "\n",
       "    .dataframe tbody tr th {\n",
       "        vertical-align: top;\n",
       "    }\n",
       "\n",
       "    .dataframe thead th {\n",
       "        text-align: right;\n",
       "    }\n",
       "</style>\n",
       "<table border=\"1\" class=\"dataframe\">\n",
       "  <thead>\n",
       "    <tr style=\"text-align: right;\">\n",
       "      <th></th>\n",
       "      <th>ID</th>\n",
       "      <th>Senior</th>\n",
       "      <th>Anciennete</th>\n",
       "      <th>charges mensuelles</th>\n",
       "      <th>Charges totales</th>\n",
       "    </tr>\n",
       "  </thead>\n",
       "  <tbody>\n",
       "    <tr>\n",
       "      <th>count</th>\n",
       "      <td>5986.000000</td>\n",
       "      <td>5986.000000</td>\n",
       "      <td>5986.000000</td>\n",
       "      <td>344.000000</td>\n",
       "      <td>285.000000</td>\n",
       "    </tr>\n",
       "    <tr>\n",
       "      <th>mean</th>\n",
       "      <td>3516.183094</td>\n",
       "      <td>0.162546</td>\n",
       "      <td>32.481791</td>\n",
       "      <td>66.436047</td>\n",
       "      <td>2343.719298</td>\n",
       "    </tr>\n",
       "    <tr>\n",
       "      <th>std</th>\n",
       "      <td>2032.026181</td>\n",
       "      <td>0.368982</td>\n",
       "      <td>24.638643</td>\n",
       "      <td>28.838678</td>\n",
       "      <td>2259.198130</td>\n",
       "    </tr>\n",
       "    <tr>\n",
       "      <th>min</th>\n",
       "      <td>1.000000</td>\n",
       "      <td>0.000000</td>\n",
       "      <td>0.000000</td>\n",
       "      <td>19.000000</td>\n",
       "      <td>19.000000</td>\n",
       "    </tr>\n",
       "    <tr>\n",
       "      <th>25%</th>\n",
       "      <td>1759.250000</td>\n",
       "      <td>0.000000</td>\n",
       "      <td>9.000000</td>\n",
       "      <td>45.000000</td>\n",
       "      <td>454.000000</td>\n",
       "    </tr>\n",
       "    <tr>\n",
       "      <th>50%</th>\n",
       "      <td>3513.500000</td>\n",
       "      <td>0.000000</td>\n",
       "      <td>29.000000</td>\n",
       "      <td>73.500000</td>\n",
       "      <td>1388.000000</td>\n",
       "    </tr>\n",
       "    <tr>\n",
       "      <th>75%</th>\n",
       "      <td>5275.750000</td>\n",
       "      <td>0.000000</td>\n",
       "      <td>56.000000</td>\n",
       "      <td>91.000000</td>\n",
       "      <td>3848.000000</td>\n",
       "    </tr>\n",
       "    <tr>\n",
       "      <th>max</th>\n",
       "      <td>7042.000000</td>\n",
       "      <td>1.000000</td>\n",
       "      <td>72.000000</td>\n",
       "      <td>116.000000</td>\n",
       "      <td>8405.000000</td>\n",
       "    </tr>\n",
       "  </tbody>\n",
       "</table>\n",
       "</div>"
      ],
      "text/plain": [
       "                ID       Senior   Anciennete  charges mensuelles  \\\n",
       "count  5986.000000  5986.000000  5986.000000          344.000000   \n",
       "mean   3516.183094     0.162546    32.481791           66.436047   \n",
       "std    2032.026181     0.368982    24.638643           28.838678   \n",
       "min       1.000000     0.000000     0.000000           19.000000   \n",
       "25%    1759.250000     0.000000     9.000000           45.000000   \n",
       "50%    3513.500000     0.000000    29.000000           73.500000   \n",
       "75%    5275.750000     0.000000    56.000000           91.000000   \n",
       "max    7042.000000     1.000000    72.000000          116.000000   \n",
       "\n",
       "       Charges totales  \n",
       "count       285.000000  \n",
       "mean       2343.719298  \n",
       "std        2259.198130  \n",
       "min          19.000000  \n",
       "25%         454.000000  \n",
       "50%        1388.000000  \n",
       "75%        3848.000000  \n",
       "max        8405.000000  "
      ]
     },
     "execution_count": 15,
     "metadata": {},
     "output_type": "execute_result"
    }
   ],
   "source": [
    "# Analyse descriptive des variables numérique\n",
    "data.describe()"
   ]
  },
  {
   "cell_type": "code",
   "execution_count": 17,
   "id": "fb74fb40",
   "metadata": {},
   "outputs": [
    {
     "data": {
      "text/html": [
       "<div>\n",
       "<style scoped>\n",
       "    .dataframe tbody tr th:only-of-type {\n",
       "        vertical-align: middle;\n",
       "    }\n",
       "\n",
       "    .dataframe tbody tr th {\n",
       "        vertical-align: top;\n",
       "    }\n",
       "\n",
       "    .dataframe thead th {\n",
       "        text-align: right;\n",
       "    }\n",
       "</style>\n",
       "<table border=\"1\" class=\"dataframe\">\n",
       "  <thead>\n",
       "    <tr style=\"text-align: right;\">\n",
       "      <th></th>\n",
       "      <th>Genre</th>\n",
       "      <th>Enfants</th>\n",
       "      <th>Multi-lignes</th>\n",
       "      <th>Service Internet</th>\n",
       "      <th>Autres Services</th>\n",
       "      <th>Partenaire</th>\n",
       "      <th>Contrat</th>\n",
       "      <th>Facturation electronique</th>\n",
       "      <th>Mode de paiement</th>\n",
       "      <th>Desabonnement</th>\n",
       "    </tr>\n",
       "  </thead>\n",
       "  <tbody>\n",
       "    <tr>\n",
       "      <th>count</th>\n",
       "      <td>5986</td>\n",
       "      <td>5986</td>\n",
       "      <td>5986</td>\n",
       "      <td>5986</td>\n",
       "      <td>5986</td>\n",
       "      <td>5986</td>\n",
       "      <td>5986</td>\n",
       "      <td>5986</td>\n",
       "      <td>5986</td>\n",
       "      <td>5986</td>\n",
       "    </tr>\n",
       "    <tr>\n",
       "      <th>unique</th>\n",
       "      <td>2</td>\n",
       "      <td>2</td>\n",
       "      <td>3</td>\n",
       "      <td>3</td>\n",
       "      <td>2</td>\n",
       "      <td>2</td>\n",
       "      <td>3</td>\n",
       "      <td>2</td>\n",
       "      <td>4</td>\n",
       "      <td>2</td>\n",
       "    </tr>\n",
       "    <tr>\n",
       "      <th>top</th>\n",
       "      <td>Homme</td>\n",
       "      <td>Non</td>\n",
       "      <td>Non</td>\n",
       "      <td>Fibre optique</td>\n",
       "      <td>Oui</td>\n",
       "      <td>Non</td>\n",
       "      <td>Mensuel</td>\n",
       "      <td>Oui</td>\n",
       "      <td>Cheque electronique</td>\n",
       "      <td>Non</td>\n",
       "    </tr>\n",
       "    <tr>\n",
       "      <th>freq</th>\n",
       "      <td>3032</td>\n",
       "      <td>4196</td>\n",
       "      <td>3463</td>\n",
       "      <td>2636</td>\n",
       "      <td>5435</td>\n",
       "      <td>3093</td>\n",
       "      <td>3262</td>\n",
       "      <td>3521</td>\n",
       "      <td>2005</td>\n",
       "      <td>4424</td>\n",
       "    </tr>\n",
       "  </tbody>\n",
       "</table>\n",
       "</div>"
      ],
      "text/plain": [
       "        Genre Enfants Multi-lignes Service Internet Autres Services  \\\n",
       "count    5986    5986         5986             5986            5986   \n",
       "unique      2       2            3                3               2   \n",
       "top     Homme     Non          Non    Fibre optique             Oui   \n",
       "freq     3032    4196         3463             2636            5435   \n",
       "\n",
       "       Partenaire  Contrat Facturation electronique     Mode de paiement  \\\n",
       "count        5986     5986                     5986                 5986   \n",
       "unique          2        3                        2                    4   \n",
       "top           Non  Mensuel                      Oui  Cheque electronique   \n",
       "freq         3093     3262                     3521                 2005   \n",
       "\n",
       "       Desabonnement  \n",
       "count           5986  \n",
       "unique             2  \n",
       "top              Non  \n",
       "freq            4424  "
      ]
     },
     "execution_count": 17,
     "metadata": {},
     "output_type": "execute_result"
    }
   ],
   "source": [
    "# Analyse descriptive des variables catégorielles\n",
    "data.describe(include=['object', 'category'])"
   ]
  },
  {
   "cell_type": "markdown",
   "id": "588b8c71",
   "metadata": {},
   "source": [
    "## Analyse univarivé"
   ]
  },
  {
   "cell_type": "code",
   "execution_count": 152,
   "id": "71f1dfbf",
   "metadata": {},
   "outputs": [
    {
     "data": {
      "image/png": "[encoded data removed]",
      "text/plain": [
       "<Figure size 720x432 with 1 Axes>"
      ]
     },
     "metadata": {
      "needs_background": "light"
     },
     "output_type": "display_data"
    }
   ],
   "source": [
    "variable_categorielle='Service Internet'\n",
    "category_counts = data[variable_categorielle].value_counts()\n",
    "\n",
    "# Tracer le diagramme en barres\n",
    "\n",
    "plt.figure(figsize=(10, 6))\n",
    "ax=sn.barplot(x=category_counts.index, y=category_counts.values, palette='viridis')\n",
    "\n",
    "for i in ax.containers:\n",
    "    ax.bar_label(i, label_type='edge')\n",
    "    \n",
    "plt.title(f'Diagramme en barres pour {variable_categorielle}')\n",
    "plt.xlabel('Catégories')\n",
    "plt.ylabel('Nombre d\\'occurrences')\n",
    "plt.xticks(rotation=45)\n",
    "plt.show()"
   ]
  },
  {
   "cell_type": "code",
   "execution_count": 166,
   "id": "a1c6112c",
   "metadata": {},
   "outputs": [
    {
     "data": {
      "image/png": "[encoded data removed]",
      "text/plain": [
       "<Figure size 720x432 with 1 Axes>"
      ]
     },
     "metadata": {
      "needs_background": "light"
     },
     "output_type": "display_data"
    },
    {
     "data": {
      "image/png": "[encoded data removed]",
      "text/plain": [
       "<Figure size 720x432 with 1 Axes>"
      ]
     },
     "metadata": {
      "needs_background": "light"
     },
     "output_type": "display_data"
    },
    {
     "data": {
      "image/png": "[encoded data removed]",
      "text/plain": [
       "<Figure size 720x432 with 1 Axes>"
      ]
     },
     "metadata": {
      "needs_background": "light"
     },
     "output_type": "display_data"
    },
    {
     "data": {
      "image/png": "[encoded data removed]",
      "text/plain": [
       "<Figure size 720x432 with 1 Axes>"
      ]
     },
     "metadata": {
      "needs_background": "light"
     },
     "output_type": "display_data"
    }
   ],
   "source": [
    "variable_categorielle='Multi-lignes'\n",
    "category_counts = data[variable_categorielle].value_counts()\n",
    "\n",
    "# Tracer le diagramme en barres\n",
    "plt.figure(figsize=(10, 6))\n",
    "ax=sn.barplot(x=category_counts.index, y=category_counts.values, palette='viridis')\n",
    "\n",
    "for i in ax.containers:\n",
    "    ax.bar_label(i, label_type='edge')\n",
    "    \n",
    "plt.title(f'Diagramme en barres pour {variable_categorielle}')\n",
    "plt.xlabel('Catégories')\n",
    "plt.ylabel('Nombre d\\'occurrences')\n",
    "plt.xticks(rotation=45)\n",
    "plt.show()\n",
    "\n",
    "variable_categorielle='Partenaire'\n",
    "category_counts = data[variable_categorielle].value_counts()\n",
    "\n",
    "# Tracer le diagramme en barres\n",
    "plt.figure(figsize=(10, 6))\n",
    "ax=sn.barplot(x=category_counts.index, y=category_counts.values, palette='viridis')\n",
    "\n",
    "for i in ax.containers:\n",
    "    ax.bar_label(i, label_type='edge')\n",
    "    \n",
    "plt.title(f'Diagramme en barres pour {variable_categorielle}')\n",
    "plt.xlabel('Catégories')\n",
    "plt.ylabel('Nombre d\\'occurrences')\n",
    "plt.xticks(rotation=45)\n",
    "plt.show()\n",
    "\n",
    "variable_categorielle='Partenaire'\n",
    "category_counts = data[variable_categorielle].value_counts()\n",
    "\n",
    "# Tracer le diagramme en barres\n",
    "plt.figure(figsize=(10, 6))\n",
    "ax=sn.barplot(x=category_counts.index, y=category_counts.values, palette='viridis')\n",
    "\n",
    "for i in ax.containers:\n",
    "    ax.bar_label(i, label_type='edge')\n",
    "    \n",
    "plt.title(f'Diagramme en barres pour {variable_categorielle}')\n",
    "plt.xlabel('Catégories')\n",
    "plt.ylabel('Nombre d\\'occurrences')\n",
    "plt.xticks(rotation=45)\n",
    "plt.show()\n",
    "\n",
    "\n",
    "category_counts = data['Desabonnement'].value_counts()\n",
    "\n",
    "# Tracer le diagramme en barres\n",
    "plt.figure(figsize=(10, 6))\n",
    "ax=sn.barplot(x=category_counts.index, y=category_counts.values, palette='viridis')\n",
    "\n",
    "for i in ax.containers:\n",
    "    ax.bar_label(i, label_type='edge')\n",
    "    \n",
    "plt.title(f'Diagramme en barres pour la variable désabonnement')\n",
    "plt.xlabel('Catégories')\n",
    "plt.ylabel('Nombre d\\'occurrences')\n",
    "plt.xticks(rotation=45)\n",
    "plt.show()"
   ]
  },
  {
   "cell_type": "code",
   "execution_count": 47,
   "id": "87f7e862",
   "metadata": {},
   "outputs": [
    {
     "data": {
      "text/plain": [
       "Desabonnement\n",
       "Non    73.90578\n",
       "Oui    26.09422\n",
       "Name: count, dtype: float64"
      ]
     },
     "execution_count": 47,
     "metadata": {},
     "output_type": "execute_result"
    }
   ],
   "source": [
    "# calcul du porcentage du taux de désabonnement\n",
    "data.groupby('Desabonnement')['Desabonnement'].value_counts()/5986*100"
   ]
  },
  {
   "cell_type": "markdown",
   "id": "6461164a",
   "metadata": {},
   "source": [
    "Sur l'ensemble des clients, nous avons 1562 clients qui sont désabonnés, soit un taux de 26%"
   ]
  },
  {
   "cell_type": "code",
   "execution_count": 125,
   "id": "8f18fb0b",
   "metadata": {},
   "outputs": [
    {
     "data": {
      "image/png": "[encoded data removed]",
      "text/plain": [
       "<Figure size 432x288 with 1 Axes>"
      ]
     },
     "metadata": {
      "needs_background": "light"
     },
     "output_type": "display_data"
    },
    {
     "data": {
      "image/png": "[encoded data removed]",
      "text/plain": [
       "<Figure size 432x288 with 1 Axes>"
      ]
     },
     "metadata": {
      "needs_background": "light"
     },
     "output_type": "display_data"
    },
    {
     "data": {
      "image/png": "[encoded data removed]",
      "text/plain": [
       "<Figure size 432x288 with 1 Axes>"
      ]
     },
     "metadata": {
      "needs_background": "light"
     },
     "output_type": "display_data"
    },
    {
     "data": {
      "image/png": "[encoded data removed]",
      "text/plain": [
       "<Figure size 432x288 with 1 Axes>"
      ]
     },
     "metadata": {
      "needs_background": "light"
     },
     "output_type": "display_data"
    },
    {
     "data": {
      "image/png": "[encoded data removed]",
      "text/plain": [
       "<Figure size 432x288 with 1 Axes>"
      ]
     },
     "metadata": {
      "needs_background": "light"
     },
     "output_type": "display_data"
    },
    {
     "data": {
      "image/png": "[encoded data removed]",
      "text/plain": [
       "<Figure size 432x288 with 1 Axes>"
      ]
     },
     "metadata": {
      "needs_background": "light"
     },
     "output_type": "display_data"
    }
   ],
   "source": [
    "# Génération des boxplots pour chaque variable numérique sur des graphiques séparés\n",
    "for col in var_num:\n",
    "    sn.boxplot(x=data[col])\n",
    "    plt.title(f'Boxplot de la variable \"{col}\"')\n",
    "    plt.show()"
   ]
  },
  {
   "cell_type": "markdown",
   "id": "de4a89a6",
   "metadata": {},
   "source": [
    "Sur les variables numérique, nous observons qu'une seul valeur abérante au niveau de la variable sénior"
   ]
  },
  {
   "cell_type": "code",
   "execution_count": 142,
   "id": "7b81db86",
   "metadata": {},
   "outputs": [
    {
     "data": {
      "image/png": "[encoded data removed]",
      "text/plain": [
       "<Figure size 432x288 with 1 Axes>"
      ]
     },
     "metadata": {
      "needs_background": "light"
     },
     "output_type": "display_data"
    },
    {
     "data": {
      "image/png": "[encoded data removed]",
      "text/plain": [
       "<Figure size 432x288 with 1 Axes>"
      ]
     },
     "metadata": {
      "needs_background": "light"
     },
     "output_type": "display_data"
    },
    {
     "data": {
      "image/png": "[encoded data removed]",
      "text/plain": [
       "<Figure size 432x288 with 1 Axes>"
      ]
     },
     "metadata": {
      "needs_background": "light"
     },
     "output_type": "display_data"
    },
    {
     "data": {
      "image/png": "[encoded data removed]",
      "text/plain": [
       "<Figure size 432x288 with 1 Axes>"
      ]
     },
     "metadata": {
      "needs_background": "light"
     },
     "output_type": "display_data"
    },
    {
     "data": {
      "image/png": "[encoded data removed]",
      "text/plain": [
       "<Figure size 432x288 with 1 Axes>"
      ]
     },
     "metadata": {
      "needs_background": "light"
     },
     "output_type": "display_data"
    }
   ],
   "source": [
    "# Génération des boxplots bivariés pour chaque variable numérique sur des graphiques séparés\n",
    "for col in var_num.drop('target_encoded',axis=1):\n",
    "    sn.boxplot(data=data, x='target_encoded', y=col)\n",
    "    plt.title(f'Boxplot de la variable \"{col}\" par rapport à la variable cible \"target_encoded\"')\n",
    "    plt.xlabel('Désabonné (1) ou non désabonné (0)')\n",
    "    plt.ylabel(col)\n",
    "    plt.show()"
   ]
  },
  {
   "cell_type": "code",
   "execution_count": 135,
   "id": "3b932753",
   "metadata": {
    "collapsed": true
   },
   "outputs": [
    {
     "ename": "AttributeError",
     "evalue": "'GrouperView' object has no attribute 'join'",
     "output_type": "error",
     "traceback": [
      "\u001b[1;31m---------------------------------------------------------------------------\u001b[0m",
      "\u001b[1;31mAttributeError\u001b[0m                            Traceback (most recent call last)",
      "Input \u001b[1;32mIn [135]\u001b[0m, in \u001b[0;36m<cell line: 2>\u001b[1;34m()\u001b[0m\n\u001b[0;32m      1\u001b[0m \u001b[38;5;66;03m# Génération du pairplot\u001b[39;00m\n\u001b[1;32m----> 2\u001b[0m \u001b[43msn\u001b[49m\u001b[38;5;241;43m.\u001b[39;49m\u001b[43mpairplot\u001b[49m\u001b[43m(\u001b[49m\u001b[43mdata\u001b[49m\u001b[38;5;241;43m=\u001b[39;49m\u001b[43mvar_num\u001b[49m\u001b[43m,\u001b[49m\u001b[43m \u001b[49m\u001b[43mhue\u001b[49m\u001b[38;5;241;43m=\u001b[39;49m\u001b[38;5;124;43m'\u001b[39;49m\u001b[38;5;124;43mtarget_encoded\u001b[39;49m\u001b[38;5;124;43m'\u001b[39;49m\u001b[43m,\u001b[49m\u001b[43m \u001b[49m\u001b[43mdiag_kind\u001b[49m\u001b[38;5;241;43m=\u001b[39;49m\u001b[38;5;124;43m'\u001b[39;49m\u001b[38;5;124;43mhist\u001b[39;49m\u001b[38;5;124;43m'\u001b[39;49m\u001b[43m)\u001b[49m\n\u001b[0;32m      3\u001b[0m plt\u001b[38;5;241m.\u001b[39msuptitle(\u001b[38;5;124m'\u001b[39m\u001b[38;5;124mPairplot des variables numériques\u001b[39m\u001b[38;5;124m'\u001b[39m)\n\u001b[0;32m      4\u001b[0m plt\u001b[38;5;241m.\u001b[39mshow()\n",
      "File \u001b[1;32mC:\\ProgramData\\Anaconda3\\lib\\site-packages\\seaborn\\_decorators.py:46\u001b[0m, in \u001b[0;36m_deprecate_positional_args.<locals>.inner_f\u001b[1;34m(*args, **kwargs)\u001b[0m\n\u001b[0;32m     36\u001b[0m     warnings\u001b[38;5;241m.\u001b[39mwarn(\n\u001b[0;32m     37\u001b[0m         \u001b[38;5;124m\"\u001b[39m\u001b[38;5;124mPass the following variable\u001b[39m\u001b[38;5;132;01m{}\u001b[39;00m\u001b[38;5;124m as \u001b[39m\u001b[38;5;132;01m{}\u001b[39;00m\u001b[38;5;124mkeyword arg\u001b[39m\u001b[38;5;132;01m{}\u001b[39;00m\u001b[38;5;124m: \u001b[39m\u001b[38;5;132;01m{}\u001b[39;00m\u001b[38;5;124m. \u001b[39m\u001b[38;5;124m\"\u001b[39m\n\u001b[0;32m     38\u001b[0m         \u001b[38;5;124m\"\u001b[39m\u001b[38;5;124mFrom version 0.12, the only valid positional argument \u001b[39m\u001b[38;5;124m\"\u001b[39m\n\u001b[1;32m   (...)\u001b[0m\n\u001b[0;32m     43\u001b[0m         \u001b[38;5;167;01mFutureWarning\u001b[39;00m\n\u001b[0;32m     44\u001b[0m     )\n\u001b[0;32m     45\u001b[0m kwargs\u001b[38;5;241m.\u001b[39mupdate({k: arg \u001b[38;5;28;01mfor\u001b[39;00m k, arg \u001b[38;5;129;01min\u001b[39;00m \u001b[38;5;28mzip\u001b[39m(sig\u001b[38;5;241m.\u001b[39mparameters, args)})\n\u001b[1;32m---> 46\u001b[0m \u001b[38;5;28;01mreturn\u001b[39;00m f(\u001b[38;5;241m*\u001b[39m\u001b[38;5;241m*\u001b[39mkwargs)\n",
      "File \u001b[1;32mC:\\ProgramData\\Anaconda3\\lib\\site-packages\\seaborn\\axisgrid.py:2126\u001b[0m, in \u001b[0;36mpairplot\u001b[1;34m(data, hue, hue_order, palette, vars, x_vars, y_vars, kind, diag_kind, markers, height, aspect, corner, dropna, plot_kws, diag_kws, grid_kws, size)\u001b[0m\n\u001b[0;32m   2124\u001b[0m diag_kws\u001b[38;5;241m.\u001b[39msetdefault(\u001b[38;5;124m\"\u001b[39m\u001b[38;5;124mlegend\u001b[39m\u001b[38;5;124m\"\u001b[39m, \u001b[38;5;28;01mFalse\u001b[39;00m)\n\u001b[0;32m   2125\u001b[0m \u001b[38;5;28;01mif\u001b[39;00m diag_kind \u001b[38;5;241m==\u001b[39m \u001b[38;5;124m\"\u001b[39m\u001b[38;5;124mhist\u001b[39m\u001b[38;5;124m\"\u001b[39m:\n\u001b[1;32m-> 2126\u001b[0m     grid\u001b[38;5;241m.\u001b[39mmap_diag(histplot, \u001b[38;5;241m*\u001b[39m\u001b[38;5;241m*\u001b[39mdiag_kws)\n\u001b[0;32m   2127\u001b[0m \u001b[38;5;28;01melif\u001b[39;00m diag_kind \u001b[38;5;241m==\u001b[39m \u001b[38;5;124m\"\u001b[39m\u001b[38;5;124mkde\u001b[39m\u001b[38;5;124m\"\u001b[39m:\n\u001b[0;32m   2128\u001b[0m     diag_kws\u001b[38;5;241m.\u001b[39msetdefault(\u001b[38;5;124m\"\u001b[39m\u001b[38;5;124mfill\u001b[39m\u001b[38;5;124m\"\u001b[39m, \u001b[38;5;28;01mTrue\u001b[39;00m)\n",
      "File \u001b[1;32mC:\\ProgramData\\Anaconda3\\lib\\site-packages\\seaborn\\axisgrid.py:1444\u001b[0m, in \u001b[0;36mPairGrid.map_diag\u001b[1;34m(self, func, **kwargs)\u001b[0m\n\u001b[0;32m   1442\u001b[0m     group \u001b[38;5;241m=\u001b[39m diag_axes[\u001b[38;5;241m0\u001b[39m]\u001b[38;5;241m.\u001b[39mget_shared_y_axes()\n\u001b[0;32m   1443\u001b[0m     \u001b[38;5;28;01mfor\u001b[39;00m ax \u001b[38;5;129;01min\u001b[39;00m diag_axes[\u001b[38;5;241m1\u001b[39m:]:\n\u001b[1;32m-> 1444\u001b[0m         \u001b[43mgroup\u001b[49m\u001b[38;5;241;43m.\u001b[39;49m\u001b[43mjoin\u001b[49m(ax, diag_axes[\u001b[38;5;241m0\u001b[39m])\n\u001b[0;32m   1446\u001b[0m \u001b[38;5;28mself\u001b[39m\u001b[38;5;241m.\u001b[39mdiag_vars \u001b[38;5;241m=\u001b[39m np\u001b[38;5;241m.\u001b[39marray(diag_vars, np\u001b[38;5;241m.\u001b[39mobject_)\n\u001b[0;32m   1447\u001b[0m \u001b[38;5;28mself\u001b[39m\u001b[38;5;241m.\u001b[39mdiag_axes \u001b[38;5;241m=\u001b[39m np\u001b[38;5;241m.\u001b[39marray(diag_axes, np\u001b[38;5;241m.\u001b[39mobject_)\n",
      "\u001b[1;31mAttributeError\u001b[0m: 'GrouperView' object has no attribute 'join'"
     ]
    },
    {
     "data": {
      "image/png": "[encoded data removed]",
      "text/plain": [
       "<Figure size 900x900 with 30 Axes>"
      ]
     },
     "metadata": {
      "needs_background": "light"
     },
     "output_type": "display_data"
    }
   ],
   "source": [
    "# Génération du pairplot\n",
    "sn.pairplot(data=var_num, hue='target_encoded', diag_kind='hist')\n",
    "plt.suptitle('Pairplot des variables numériques')\n",
    "plt.show()"
   ]
  },
  {
   "cell_type": "code",
   "execution_count": 35,
   "id": "8441c3d7",
   "metadata": {},
   "outputs": [],
   "source": [
    "var_cat = data.select_dtypes(include=['object', 'category'])"
   ]
  },
  {
   "cell_type": "markdown",
   "id": "521c9ef1",
   "metadata": {},
   "source": [
    "Etude de correlation entre les variables catégorielles et la variable cible"
   ]
  },
  {
   "cell_type": "code",
   "execution_count": 22,
   "id": "b997ca57",
   "metadata": {},
   "outputs": [],
   "source": [
    "from scipy.stats import chi2_contingency\n",
    "\n",
    "# Définir une fonction pour effectuer le test du Chi-carré\n",
    "def chi2_test(df, col1, col2):\n",
    "    contingency_table = pd.crosstab(df[col1], df[col2])\n",
    "    chi2, p, dof, expected = chi2_contingency(contingency_table)\n",
    "    return chi2, p\n",
    "\n",
    "# Appliquer le test du Chi-carré à chaque variable catégorielle par rapport à la variable cible\n",
    "target_var = 'Desabonnement'\n",
    "categorical_vars = var_cat.drop('Desabonnement',axis=1)\n",
    "\n",
    "results = {}\n",
    "for var in categorical_vars:\n",
    "    chi2, p = chi2_test(data, target_var, var)\n",
    "    results[var] = {'chi2': chi2, 'p-value': p}\n",
    "\n",
    "results_df = pd.DataFrame(results).T"
   ]
  },
  {
   "cell_type": "code",
   "execution_count": 23,
   "id": "24f74d4d",
   "metadata": {},
   "outputs": [
    {
     "data": {
      "text/html": [
       "<div>\n",
       "<style scoped>\n",
       "    .dataframe tbody tr th:only-of-type {\n",
       "        vertical-align: middle;\n",
       "    }\n",
       "\n",
       "    .dataframe tbody tr th {\n",
       "        vertical-align: top;\n",
       "    }\n",
       "\n",
       "    .dataframe thead th {\n",
       "        text-align: right;\n",
       "    }\n",
       "</style>\n",
       "<table border=\"1\" class=\"dataframe\">\n",
       "  <thead>\n",
       "    <tr style=\"text-align: right;\">\n",
       "      <th></th>\n",
       "      <th>chi2</th>\n",
       "      <th>p-value</th>\n",
       "    </tr>\n",
       "  </thead>\n",
       "  <tbody>\n",
       "    <tr>\n",
       "      <th>Genre</th>\n",
       "      <td>0.009743</td>\n",
       "      <td>9.213698e-01</td>\n",
       "    </tr>\n",
       "    <tr>\n",
       "      <th>Enfants</th>\n",
       "      <td>150.110098</td>\n",
       "      <td>1.640193e-34</td>\n",
       "    </tr>\n",
       "    <tr>\n",
       "      <th>Multi-lignes</th>\n",
       "      <td>11.814753</td>\n",
       "      <td>2.719312e-03</td>\n",
       "    </tr>\n",
       "    <tr>\n",
       "      <th>Service Internet</th>\n",
       "      <td>620.510657</td>\n",
       "      <td>1.810601e-135</td>\n",
       "    </tr>\n",
       "    <tr>\n",
       "      <th>Autres Services</th>\n",
       "      <td>1.827694</td>\n",
       "      <td>1.764002e-01</td>\n",
       "    </tr>\n",
       "    <tr>\n",
       "      <th>Partenaire</th>\n",
       "      <td>143.519931</td>\n",
       "      <td>4.524306e-33</td>\n",
       "    </tr>\n",
       "    <tr>\n",
       "      <th>Contrat</th>\n",
       "      <td>1002.234013</td>\n",
       "      <td>2.331575e-218</td>\n",
       "    </tr>\n",
       "    <tr>\n",
       "      <th>Facturation electronique</th>\n",
       "      <td>214.179998</td>\n",
       "      <td>1.682482e-48</td>\n",
       "    </tr>\n",
       "    <tr>\n",
       "      <th>Mode de paiement</th>\n",
       "      <td>555.515551</td>\n",
       "      <td>4.429948e-120</td>\n",
       "    </tr>\n",
       "  </tbody>\n",
       "</table>\n",
       "</div>"
      ],
      "text/plain": [
       "                                 chi2        p-value\n",
       "Genre                        0.009743   9.213698e-01\n",
       "Enfants                    150.110098   1.640193e-34\n",
       "Multi-lignes                11.814753   2.719312e-03\n",
       "Service Internet           620.510657  1.810601e-135\n",
       "Autres Services              1.827694   1.764002e-01\n",
       "Partenaire                 143.519931   4.524306e-33\n",
       "Contrat                   1002.234013  2.331575e-218\n",
       "Facturation electronique   214.179998   1.682482e-48\n",
       "Mode de paiement           555.515551  4.429948e-120"
      ]
     },
     "execution_count": 23,
     "metadata": {},
     "output_type": "execute_result"
    }
   ],
   "source": [
    "results_df"
   ]
  },
  {
   "cell_type": "markdown",
   "id": "0c29ae2d",
   "metadata": {},
   "source": [
    "les variables Enfants, Multi-lignes, Service Internet, Partenaire, Contrat, Facturation electronique et Mode de paiement leurs p-value sont < 0.05, donc ils ont une relation significative avec la variable cible. Pour les autres, leurs p-values sont > 0.05, leurs relation avec la variable cible n'est pas significative. donc ces deux variables ne font aucune n'effet sur la creation du model "
   ]
  },
  {
   "cell_type": "code",
   "execution_count": 24,
   "id": "2640949a",
   "metadata": {},
   "outputs": [],
   "source": [
    "var_num = data.select_dtypes(include=['int', 'float'])"
   ]
  },
  {
   "cell_type": "markdown",
   "id": "daa35600",
   "metadata": {},
   "source": [
    "Etude de corrélation entre les variables numériques et la variable cible"
   ]
  },
  {
   "cell_type": "code",
   "execution_count": 31,
   "id": "5bd4f7d4",
   "metadata": {},
   "outputs": [],
   "source": [
    "# convertissons la variabe cible en numérique\n",
    "from sklearn.preprocessing import LabelEncoder\n",
    "# Label Encoding\n",
    "label_encoder = LabelEncoder()\n",
    "data['target_encoded'] = label_encoder.fit_transform(data['Desabonnement'])"
   ]
  },
  {
   "cell_type": "code",
   "execution_count": 32,
   "id": "32b4cf1e",
   "metadata": {},
   "outputs": [],
   "source": [
    "var_num = data.select_dtypes(include=['int', 'float'])"
   ]
  },
  {
   "cell_type": "code",
   "execution_count": 33,
   "id": "f1bae1ec",
   "metadata": {},
   "outputs": [
    {
     "name": "stdout",
     "output_type": "stream",
     "text": [
      "Corrélation de Pearson:\n",
      "ID                    0.007272\n",
      "Senior                0.150641\n",
      "Anciennete           -0.351829\n",
      "charges mensuelles    0.250719\n",
      "Charges totales      -0.203149\n",
      "target_encoded        1.000000\n",
      "Name: target_encoded, dtype: float64\n"
     ]
    }
   ],
   "source": [
    "# Calculer la corrélation de Pearson\n",
    "corr = var_num.corr()\n",
    "print(\"Corrélation de Pearson:\")\n",
    "print(corr['target_encoded'])"
   ]
  },
  {
   "cell_type": "markdown",
   "id": "7a71854f",
   "metadata": {},
   "source": [
    "Les variables Senior et charges mensuelles ont une corrélation positive, tandisque les variables Anciennete et charges totales ont une corréltion négative avec la variable cible"
   ]
  },
  {
   "cell_type": "code",
   "execution_count": 37,
   "id": "d9de8d9d",
   "metadata": {},
   "outputs": [],
   "source": [
    "# Créer un encodage de label pour chaque colonne catégorielle\n",
    "label_encoders = {}\n",
    "for column in var_cat.select_dtypes(include=['object']).columns:\n",
    "    label_encoders[column] = LabelEncoder()\n",
    "    var_cat[column] = label_encoders[column].fit_transform(var_cat[column])\n",
    "\n"
   ]
  },
  {
   "cell_type": "code",
   "execution_count": 150,
   "id": "9e60731a",
   "metadata": {},
   "outputs": [],
   "source": [
    "# concaténer var_cat et var_num\n",
    "df = pd.concat([var_num,var_cat], axis=1)\n"
   ]
  },
  {
   "cell_type": "code",
   "execution_count": 39,
   "id": "2f3807d9",
   "metadata": {},
   "outputs": [
    {
     "name": "stdout",
     "output_type": "stream",
     "text": [
      "Corrélation de Pearson:\n",
      "ID                          0.007272\n",
      "Senior                      0.150641\n",
      "Anciennete                 -0.351829\n",
      "charges mensuelles          0.250719\n",
      "Charges totales            -0.203149\n",
      "target_encoded              1.000000\n",
      "Genre                      -0.001656\n",
      "Enfants                    -0.158772\n",
      "Multi-lignes                0.043403\n",
      "Service Internet           -0.050568\n",
      "Autres Services             0.018132\n",
      "Partenaire                 -0.155222\n",
      "Contrat                     0.339478\n",
      "Facturation electronique    0.189543\n",
      "Mode de paiement           -0.077527\n",
      "Desabonnement               1.000000\n",
      "Name: target_encoded, dtype: float64\n"
     ]
    }
   ],
   "source": [
    "# Calculer la corrélation de Pearson\n",
    "corr = df.corr()\n",
    "print(\"Corrélation de Pearson:\")\n",
    "print(corr['target_encoded'])"
   ]
  },
  {
   "cell_type": "markdown",
   "id": "5e631030",
   "metadata": {},
   "source": [
    "# Création d'un model de prédiction"
   ]
  },
  {
   "cell_type": "code",
   "execution_count": 167,
   "id": "6ed0bc4b",
   "metadata": {},
   "outputs": [],
   "source": [
    "X=df.drop(['Desabonnement','target_encoded'],axis=1)\n",
    "Y=df['target_encoded']"
   ]
  },
  {
   "cell_type": "code",
   "execution_count": 55,
   "id": "7f5d33a8",
   "metadata": {},
   "outputs": [],
   "source": [
    "from sklearn.model_selection import train_test_split, cross_val_score\n",
    "from sklearn.preprocessing import StandardScaler\n",
    "from sklearn.linear_model import LogisticRegression\n",
    "from sklearn.tree import DecisionTreeClassifier\n",
    "from sklearn.ensemble import RandomForestClassifier, GradientBoostingClassifier\n",
    "from sklearn.svm import SVC\n",
    "from xgboost import XGBClassifier\n",
    "from sklearn.neighbors import KNeighborsClassifier\n",
    "from sklearn.metrics import accuracy_score, classification_report,confusion_matrix, roc_curve, roc_auc_score\n",
    "from sklearn.impute import SimpleImputer"
   ]
  },
  {
   "cell_type": "code",
   "execution_count": 168,
   "id": "86dffbd3",
   "metadata": {},
   "outputs": [],
   "source": [
    "# Imputation des valeurs manquantes\n",
    "imputer = SimpleImputer(strategy='mean')\n",
    "X = imputer.fit_transform(X)\n",
    "\n",
    "#division des données en ensemble d'entrainement et de test\n",
    "X_train, X_test, y_train, y_test = train_test_split(X, Y, test_size=0.2, random_state=42)\n",
    "\n",
    "# Standardiser les caractéristiques\n",
    "scaler = StandardScaler()\n",
    "X_train = scaler.fit_transform(X_train)\n",
    "X_test = scaler.transform(X_test)"
   ]
  },
  {
   "cell_type": "code",
   "execution_count": 169,
   "id": "5dc16242",
   "metadata": {},
   "outputs": [
    {
     "name": "stdout",
     "output_type": "stream",
     "text": [
      "Le modèle le plus performant est: Gradient Boosting avec une précision de 0.8105175292153589\n",
      "Rapport de classification du meilleur modèle:\n",
      "              precision    recall  f1-score   support\n",
      "\n",
      "           0       0.85      0.90      0.88       893\n",
      "           1       0.65      0.54      0.59       305\n",
      "\n",
      "    accuracy                           0.81      1198\n",
      "   macro avg       0.75      0.72      0.73      1198\n",
      "weighted avg       0.80      0.81      0.80      1198\n",
      "\n"
     ]
    }
   ],
   "source": [
    "# Initialiser les modèles avec des hyperparamètres de base\n",
    "models = {\n",
    "    'Logistic Regression': LogisticRegression(max_iter=1000),\n",
    "    'Decision Tree': DecisionTreeClassifier(),\n",
    "    'Random Forest': RandomForestClassifier(),\n",
    "    'Gradient Boosting': GradientBoostingClassifier(),\n",
    "    'XGBoost': XGBClassifier(),\n",
    "    \"Support Vector Machine\": SVC(),\n",
    "    \"K-Nearest Neighbors\": KNeighborsClassifier()\n",
    "}\n",
    "\n",
    "# Dictionnaire pour stocker les performances des modèles\n",
    "model_performance = {}\n",
    "\n",
    "# Entraîner et évaluer chaque modèle\n",
    "for name, model in models.items():\n",
    "    # Entraînement du modèle\n",
    "    model.fit(X_train, y_train)\n",
    "    \n",
    "    # Prédictions sur l'ensemble de test\n",
    "    y_pred = model.predict(X_test)\n",
    "    \n",
    "    # Évaluation du modèle\n",
    "    accuracy = accuracy_score(y_test, y_pred)\n",
    "    report = classification_report(y_test, y_pred)\n",
    "    \n",
    "    # Enregistrer les performances\n",
    "    model_performance[name] = {\n",
    "        'Accuracy': accuracy,\n",
    "        'Classification Report': report\n",
    "    }\n",
    "\n",
    "# Trouver le meilleur modèle basé sur l'accuracy\n",
    "best_model_name = max(model_performance, key=lambda k: model_performance[k]['Accuracy'])\n",
    "best_model_performance = model_performance[best_model_name]\n",
    "\n",
    "print(f\"Le modèle le plus performant est: {best_model_name} avec une précision de {best_model_performance['Accuracy']}\")\n",
    "print(\"Rapport de classification du meilleur modèle:\")\n",
    "print(best_model_performance['Classification Report'])\n"
   ]
  },
  {
   "cell_type": "markdown",
   "id": "2440a9b0",
   "metadata": {},
   "source": [
    "Sur les différents model que nous avons testé, le model Gradient Boosting est plus performant avec une précision de 81%. Donc nous allons continuer notre travail avec ce model"
   ]
  },
  {
   "cell_type": "code",
   "execution_count": 170,
   "id": "e1936d85",
   "metadata": {},
   "outputs": [],
   "source": [
    "# Initialiser et entraîner le modèle de GradientBoostingClassifier\n",
    "logreg = GradientBoostingClassifier()\n",
    "logreg.fit(X_train, y_train)\n",
    "\n",
    "# Prédire sur l'ensemble de test\n",
    "y_pred = logreg.predict(X_test)\n",
    "y_prob = logreg.predict_proba(X_test)[:, 1]\n",
    "\n"
   ]
  },
  {
   "cell_type": "code",
   "execution_count": 171,
   "id": "d75bc62f",
   "metadata": {},
   "outputs": [
    {
     "name": "stdout",
     "output_type": "stream",
     "text": [
      "Accuracy: 0.8105175292153589\n",
      "Classification Report:\n",
      "              precision    recall  f1-score   support\n",
      "\n",
      "           0       0.85      0.90      0.88       893\n",
      "           1       0.65      0.54      0.59       305\n",
      "\n",
      "    accuracy                           0.81      1198\n",
      "   macro avg       0.75      0.72      0.73      1198\n",
      "weighted avg       0.80      0.81      0.80      1198\n",
      "\n",
      "Confusion Matrix:\n",
      "[[806  87]\n",
      " [140 165]]\n",
      "AUC: 0.83183962697116\n"
     ]
    }
   ],
   "source": [
    "# Évaluer les performances du modèle\n",
    "accuracy = accuracy_score(y_test, y_pred)\n",
    "report = classification_report(y_test, y_pred)\n",
    "conf_matrix = confusion_matrix(y_test, y_pred)\n",
    "roc_auc = roc_auc_score(y_test, y_prob)\n",
    "fpr, tpr, thresholds = roc_curve(y_test, y_prob)\n",
    "\n",
    "print(f\"Accuracy: {accuracy}\")\n",
    "print(\"Classification Report:\")\n",
    "print(report)\n",
    "print(\"Confusion Matrix:\")\n",
    "print(conf_matrix)\n",
    "print(f\"AUC: {roc_auc}\")\n",
    "\n"
   ]
  },
  {
   "cell_type": "code",
   "execution_count": 172,
   "id": "5ec73020",
   "metadata": {},
   "outputs": [
    {
     "data": {
      "image/png": "[encoded data removed]",
      "text/plain": [
       "<Figure size 432x288 with 2 Axes>"
      ]
     },
     "metadata": {
      "needs_background": "light"
     },
     "output_type": "display_data"
    }
   ],
   "source": [
    "# Afficher la matrice de confusion\n",
    "sn.heatmap(conf_matrix, annot=True, fmt=\"d\", cmap=\"Blues\")\n",
    "plt.title(\"Confusion Matrix\")\n",
    "plt.xlabel(\"Predicted\")\n",
    "plt.ylabel(\"Actual\")\n",
    "plt.show()\n",
    "\n"
   ]
  },
  {
   "cell_type": "code",
   "execution_count": 63,
   "id": "c0e93757",
   "metadata": {},
   "outputs": [
    {
     "data": {
      "image/png": "[encoded data removed]",
      "text/plain": [
       "<Figure size 432x288 with 1 Axes>"
      ]
     },
     "metadata": {
      "needs_background": "light"
     },
     "output_type": "display_data"
    }
   ],
   "source": [
    "# Afficher la courbe ROC\n",
    "plt.figure()\n",
    "plt.plot(fpr, tpr, color='blue', lw=2, label=f'ROC curve (area = {roc_auc:.2f})')\n",
    "plt.plot([0, 1], [0, 1], color='gray', lw=2, linestyle='--')\n",
    "plt.xlim([0.0, 1.0])\n",
    "plt.ylim([0.0, 1.05])\n",
    "plt.xlabel('False Positive Rate')\n",
    "plt.ylabel('True Positive Rate')\n",
    "plt.title('Receiver Operating Characteristic (ROC) Curve')\n",
    "plt.legend(loc=\"lower right\")\n",
    "plt.show()\n",
    "\n"
   ]
  },
  {
   "cell_type": "code",
   "execution_count": 68,
   "id": "163dd4c9",
   "metadata": {},
   "outputs": [
    {
     "name": "stdout",
     "output_type": "stream",
     "text": [
      "Coefficients des caractéristiques du modèle Gradient Boosting:\n",
      "                     Feature  Coefficient\n",
      "11                   Contrat     0.470509\n",
      "8           Service Internet     0.185081\n",
      "2                 Anciennete     0.171800\n",
      "0                         ID     0.049108\n",
      "12  Facturation electronique     0.035121\n",
      "13          Mode de paiement     0.022819\n",
      "3         charges mensuelles     0.017573\n",
      "1                     Senior     0.015290\n",
      "4            Charges totales     0.014067\n",
      "7               Multi-lignes     0.010882\n",
      "9            Autres Services     0.004679\n",
      "6                    Enfants     0.001516\n",
      "5                      Genre     0.000840\n",
      "10                Partenaire     0.000716\n"
     ]
    }
   ],
   "source": [
    "# Obtenir les Coefficients des caractéristiques\n",
    "feature_importances = logreg.feature_importances_\n",
    "\n",
    "# Créer un DataFrame pour afficher les importances des caractéristiques\n",
    "features = df.drop(['Desabonnement', 'target_encoded'], axis=1).columns\n",
    "Coefficient_df = pd.DataFrame({\n",
    "    'Feature': features,\n",
    "    'Coefficient': feature_importances\n",
    "})\n",
    "\n",
    "# Trier les caractéristiques par importance décroissante\n",
    "Coefficient_df = Coefficient_df.sort_values(by='Coefficient', ascending=False)\n",
    "\n",
    "# Afficher les Coefficients des caractéristiques\n",
    "print(\"Coefficients des caractéristiques du modèle Gradient Boosting:\")\n",
    "print(Coefficient_df)\n"
   ]
  },
  {
   "cell_type": "markdown",
   "id": "2a20fd74",
   "metadata": {},
   "source": [
    "Les caractéristiques les plus influentes dans le modèle de Gradient Boosting sont le type de contrat, la disponibilité du service Internet et l'ancienneté du client. D'autres caractéristiques comme la facturation électronique, le mode de paiement et les charges mensuelles ont une importance moindre mais notable. Les caractéristiques comme le genre, la présence d'enfants et le fait d'avoir un partenaire ont un impact très faible sur les prédictions du modèle.\n",
    "\n",
    "Cette analyse permet de mieux comprendre quelles caractéristiques sont les plus déterminantes pour la prédiction du désabonnement, ce qui peut guider des actions pour réduire le churn (taux de désabonnement) en se concentrant sur les facteurs les plus influents."
   ]
  },
  {
   "cell_type": "markdown",
   "id": "aecbec91",
   "metadata": {},
   "source": [
    "# Test d'évaluation"
   ]
  },
  {
   "cell_type": "code",
   "execution_count": 79,
   "id": "b6871654",
   "metadata": {},
   "outputs": [],
   "source": [
    "df1= pd.read_csv('Telecom-Evaluation.csv',sep=';')"
   ]
  },
  {
   "cell_type": "code",
   "execution_count": 82,
   "id": "844ce860",
   "metadata": {},
   "outputs": [],
   "source": [
    "X1=df1.drop('Desabonnement',axis=1)"
   ]
  },
  {
   "cell_type": "code",
   "execution_count": 83,
   "id": "5cbd730b",
   "metadata": {},
   "outputs": [],
   "source": [
    "# Créer un encodage de label pour chaque colonne catégorielle\n",
    "label_encoders = {}\n",
    "for column in X1.select_dtypes(include=['object']).columns:\n",
    "    label_encoders[column] = LabelEncoder()\n",
    "    X1[column] = label_encoders[column].fit_transform(X1[column])\n",
    "\n"
   ]
  },
  {
   "cell_type": "code",
   "execution_count": 88,
   "id": "8e4e1dad",
   "metadata": {},
   "outputs": [
    {
     "name": "stdout",
     "output_type": "stream",
     "text": [
      "<class 'pandas.core.frame.DataFrame'>\n",
      "RangeIndex: 1057 entries, 0 to 1056\n",
      "Data columns (total 14 columns):\n",
      " #   Column                    Non-Null Count  Dtype\n",
      "---  ------                    --------------  -----\n",
      " 0   ID                        1057 non-null   int64\n",
      " 1   Genre                     1057 non-null   int32\n",
      " 2   Senior                    1057 non-null   int64\n",
      " 3   Enfants                   1057 non-null   int32\n",
      " 4   Anciennete                1057 non-null   int64\n",
      " 5   Multi-lignes              1057 non-null   int32\n",
      " 6   Service Internet          1057 non-null   int32\n",
      " 7   Autres Services           1057 non-null   int32\n",
      " 8   Contrat                   1057 non-null   int32\n",
      " 9   Facturation electronique  1057 non-null   int32\n",
      " 10  Partenaire                1057 non-null   int32\n",
      " 11  Mode de paiement          1057 non-null   int32\n",
      " 12  charges mensuelles        1057 non-null   int32\n",
      " 13  Charges totales           1057 non-null   int32\n",
      "dtypes: int32(11), int64(3)\n",
      "memory usage: 70.3 KB\n"
     ]
    }
   ],
   "source": [
    "X1.info()"
   ]
  },
  {
   "cell_type": "code",
   "execution_count": 93,
   "id": "e3ebf1f6",
   "metadata": {},
   "outputs": [
    {
     "name": "stderr",
     "output_type": "stream",
     "text": [
      "C:\\ProgramData\\Anaconda3\\lib\\site-packages\\sklearn\\base.py:443: UserWarning: X has feature names, but GradientBoostingClassifier was fitted without feature names\n",
      "  warnings.warn(\n"
     ]
    }
   ],
   "source": [
    "pred=logreg.predict(X1)"
   ]
  },
  {
   "cell_type": "code",
   "execution_count": 95,
   "id": "42fa7838",
   "metadata": {},
   "outputs": [],
   "source": [
    "pred=pd.DataFrame(pred)"
   ]
  },
  {
   "cell_type": "code",
   "execution_count": 97,
   "id": "c40959cf",
   "metadata": {},
   "outputs": [],
   "source": [
    "eval= pd.concat([df1,pred],axis=1)"
   ]
  },
  {
   "cell_type": "code",
   "execution_count": 100,
   "id": "6097be3c",
   "metadata": {},
   "outputs": [],
   "source": [
    "eval['Desabonne']=eval[0]"
   ]
  },
  {
   "cell_type": "code",
   "execution_count": 103,
   "id": "0f79e0e6",
   "metadata": {},
   "outputs": [],
   "source": [
    "eval=eval.drop(['Desabonnement',0],axis=1)"
   ]
  },
  {
   "cell_type": "code",
   "execution_count": 110,
   "id": "5a70f05a",
   "metadata": {},
   "outputs": [],
   "source": [
    "# Conversion des valeurs 0 et 1 en 'non' et 'oui' respectivement\n",
    "eval = eval.replace({'Desabonne':{0: 'non', 1: 'oui'}})\n"
   ]
  },
  {
   "cell_type": "code",
   "execution_count": 147,
   "id": "7209344f",
   "metadata": {
    "scrolled": true
   },
   "outputs": [
    {
     "data": {
      "text/html": [
       "<div>\n",
       "<style scoped>\n",
       "    .dataframe tbody tr th:only-of-type {\n",
       "        vertical-align: middle;\n",
       "    }\n",
       "\n",
       "    .dataframe tbody tr th {\n",
       "        vertical-align: top;\n",
       "    }\n",
       "\n",
       "    .dataframe thead th {\n",
       "        text-align: right;\n",
       "    }\n",
       "</style>\n",
       "<table border=\"1\" class=\"dataframe\">\n",
       "  <thead>\n",
       "    <tr style=\"text-align: right;\">\n",
       "      <th></th>\n",
       "      <th>ID</th>\n",
       "      <th>Genre</th>\n",
       "      <th>Senior</th>\n",
       "      <th>Enfants</th>\n",
       "      <th>Anciennete</th>\n",
       "      <th>Multi-lignes</th>\n",
       "      <th>Service Internet</th>\n",
       "      <th>Autres Services</th>\n",
       "      <th>Contrat</th>\n",
       "      <th>Facturation electronique</th>\n",
       "      <th>Partenaire</th>\n",
       "      <th>Mode de paiement</th>\n",
       "      <th>charges mensuelles</th>\n",
       "      <th>Charges totales</th>\n",
       "      <th>Desabonne</th>\n",
       "    </tr>\n",
       "  </thead>\n",
       "  <tbody>\n",
       "    <tr>\n",
       "      <th>0</th>\n",
       "      <td>8</td>\n",
       "      <td>Femme</td>\n",
       "      <td>0</td>\n",
       "      <td>Non</td>\n",
       "      <td>10</td>\n",
       "      <td>Non</td>\n",
       "      <td>DSL</td>\n",
       "      <td>Non</td>\n",
       "      <td>Mensuel</td>\n",
       "      <td>Non</td>\n",
       "      <td>Non</td>\n",
       "      <td>Cheque papier</td>\n",
       "      <td>29,75</td>\n",
       "      <td>301,9</td>\n",
       "      <td>non</td>\n",
       "    </tr>\n",
       "    <tr>\n",
       "      <th>1</th>\n",
       "      <td>9</td>\n",
       "      <td>Femme</td>\n",
       "      <td>0</td>\n",
       "      <td>Non</td>\n",
       "      <td>28</td>\n",
       "      <td>Oui</td>\n",
       "      <td>Fibre optique</td>\n",
       "      <td>Oui</td>\n",
       "      <td>Mensuel</td>\n",
       "      <td>Oui</td>\n",
       "      <td>Oui</td>\n",
       "      <td>Cheque electronique</td>\n",
       "      <td>104,8</td>\n",
       "      <td>3046,05</td>\n",
       "      <td>non</td>\n",
       "    </tr>\n",
       "    <tr>\n",
       "      <th>2</th>\n",
       "      <td>25</td>\n",
       "      <td>Homme</td>\n",
       "      <td>0</td>\n",
       "      <td>Oui</td>\n",
       "      <td>49</td>\n",
       "      <td>Non</td>\n",
       "      <td>DSL</td>\n",
       "      <td>Oui</td>\n",
       "      <td>Mensuel</td>\n",
       "      <td>Non</td>\n",
       "      <td>Oui</td>\n",
       "      <td>Carte bancaire</td>\n",
       "      <td>59,6</td>\n",
       "      <td>2970,3</td>\n",
       "      <td>oui</td>\n",
       "    </tr>\n",
       "    <tr>\n",
       "      <th>3</th>\n",
       "      <td>27</td>\n",
       "      <td>Homme</td>\n",
       "      <td>0</td>\n",
       "      <td>Oui</td>\n",
       "      <td>47</td>\n",
       "      <td>Oui</td>\n",
       "      <td>Fibre optique</td>\n",
       "      <td>Oui</td>\n",
       "      <td>Mensuel</td>\n",
       "      <td>Oui</td>\n",
       "      <td>Oui</td>\n",
       "      <td>Cheque electronique</td>\n",
       "      <td>99,35</td>\n",
       "      <td>4749,15</td>\n",
       "      <td>non</td>\n",
       "    </tr>\n",
       "    <tr>\n",
       "      <th>4</th>\n",
       "      <td>48</td>\n",
       "      <td>Femme</td>\n",
       "      <td>0</td>\n",
       "      <td>Non</td>\n",
       "      <td>2</td>\n",
       "      <td>Non</td>\n",
       "      <td>Fibre optique</td>\n",
       "      <td>Oui</td>\n",
       "      <td>Mensuel</td>\n",
       "      <td>Oui</td>\n",
       "      <td>Non</td>\n",
       "      <td>Cheque electronique</td>\n",
       "      <td>80,65</td>\n",
       "      <td>144,15</td>\n",
       "      <td>non</td>\n",
       "    </tr>\n",
       "    <tr>\n",
       "      <th>...</th>\n",
       "      <td>...</td>\n",
       "      <td>...</td>\n",
       "      <td>...</td>\n",
       "      <td>...</td>\n",
       "      <td>...</td>\n",
       "      <td>...</td>\n",
       "      <td>...</td>\n",
       "      <td>...</td>\n",
       "      <td>...</td>\n",
       "      <td>...</td>\n",
       "      <td>...</td>\n",
       "      <td>...</td>\n",
       "      <td>...</td>\n",
       "      <td>...</td>\n",
       "      <td>...</td>\n",
       "    </tr>\n",
       "    <tr>\n",
       "      <th>1052</th>\n",
       "      <td>7027</td>\n",
       "      <td>Femme</td>\n",
       "      <td>0</td>\n",
       "      <td>Non</td>\n",
       "      <td>9</td>\n",
       "      <td>Non</td>\n",
       "      <td>DSL</td>\n",
       "      <td>Oui</td>\n",
       "      <td>Mensuel</td>\n",
       "      <td>Oui</td>\n",
       "      <td>Non</td>\n",
       "      <td>Virement bancaire</td>\n",
       "      <td>44,2</td>\n",
       "      <td>403,35</td>\n",
       "      <td>non</td>\n",
       "    </tr>\n",
       "    <tr>\n",
       "      <th>1053</th>\n",
       "      <td>7032</td>\n",
       "      <td>Homme</td>\n",
       "      <td>1</td>\n",
       "      <td>Non</td>\n",
       "      <td>55</td>\n",
       "      <td>Oui</td>\n",
       "      <td>DSL</td>\n",
       "      <td>Oui</td>\n",
       "      <td>Annuel</td>\n",
       "      <td>Non</td>\n",
       "      <td>Oui</td>\n",
       "      <td>Carte bancaire</td>\n",
       "      <td>60</td>\n",
       "      <td>3316,1</td>\n",
       "      <td>oui</td>\n",
       "    </tr>\n",
       "    <tr>\n",
       "      <th>1054</th>\n",
       "      <td>7037</td>\n",
       "      <td>Femme</td>\n",
       "      <td>0</td>\n",
       "      <td>Non</td>\n",
       "      <td>12</td>\n",
       "      <td>Non</td>\n",
       "      <td>DSL</td>\n",
       "      <td>Non</td>\n",
       "      <td>Annuel</td>\n",
       "      <td>Non</td>\n",
       "      <td>Non</td>\n",
       "      <td>Cheque electronique</td>\n",
       "      <td>60,65</td>\n",
       "      <td>743,3</td>\n",
       "      <td>oui</td>\n",
       "    </tr>\n",
       "    <tr>\n",
       "      <th>1055</th>\n",
       "      <td>7040</td>\n",
       "      <td>Femme</td>\n",
       "      <td>0</td>\n",
       "      <td>Oui</td>\n",
       "      <td>72</td>\n",
       "      <td>Oui</td>\n",
       "      <td>Fibre optique</td>\n",
       "      <td>Oui</td>\n",
       "      <td>Annuel</td>\n",
       "      <td>Oui</td>\n",
       "      <td>Oui</td>\n",
       "      <td>Carte bancaire</td>\n",
       "      <td>103,2</td>\n",
       "      <td>7362,9</td>\n",
       "      <td>oui</td>\n",
       "    </tr>\n",
       "    <tr>\n",
       "      <th>1056</th>\n",
       "      <td>7043</td>\n",
       "      <td>Homme</td>\n",
       "      <td>0</td>\n",
       "      <td>Non</td>\n",
       "      <td>66</td>\n",
       "      <td>Non</td>\n",
       "      <td>Fibre optique</td>\n",
       "      <td>Oui</td>\n",
       "      <td>Bisannuel</td>\n",
       "      <td>Oui</td>\n",
       "      <td>Non</td>\n",
       "      <td>Virement bancaire</td>\n",
       "      <td>105,65</td>\n",
       "      <td>6844,5</td>\n",
       "      <td>non</td>\n",
       "    </tr>\n",
       "  </tbody>\n",
       "</table>\n",
       "<p>1057 rows × 15 columns</p>\n",
       "</div>"
      ],
      "text/plain": [
       "        ID  Genre  Senior Enfants  Anciennete Multi-lignes Service Internet  \\\n",
       "0        8  Femme       0     Non          10          Non              DSL   \n",
       "1        9  Femme       0     Non          28          Oui    Fibre optique   \n",
       "2       25  Homme       0     Oui          49          Non              DSL   \n",
       "3       27  Homme       0     Oui          47          Oui    Fibre optique   \n",
       "4       48  Femme       0     Non           2          Non    Fibre optique   \n",
       "...    ...    ...     ...     ...         ...          ...              ...   \n",
       "1052  7027  Femme       0     Non           9          Non              DSL   \n",
       "1053  7032  Homme       1     Non          55          Oui              DSL   \n",
       "1054  7037  Femme       0     Non          12          Non              DSL   \n",
       "1055  7040  Femme       0     Oui          72          Oui    Fibre optique   \n",
       "1056  7043  Homme       0     Non          66          Non    Fibre optique   \n",
       "\n",
       "     Autres Services    Contrat Facturation electronique Partenaire  \\\n",
       "0                Non    Mensuel                      Non        Non   \n",
       "1                Oui    Mensuel                      Oui        Oui   \n",
       "2                Oui    Mensuel                      Non        Oui   \n",
       "3                Oui    Mensuel                      Oui        Oui   \n",
       "4                Oui    Mensuel                      Oui        Non   \n",
       "...              ...        ...                      ...        ...   \n",
       "1052             Oui    Mensuel                      Oui        Non   \n",
       "1053             Oui     Annuel                      Non        Oui   \n",
       "1054             Non     Annuel                      Non        Non   \n",
       "1055             Oui     Annuel                      Oui        Oui   \n",
       "1056             Oui  Bisannuel                      Oui        Non   \n",
       "\n",
       "         Mode de paiement charges mensuelles Charges totales Desabonne  \n",
       "0           Cheque papier              29,75           301,9       non  \n",
       "1     Cheque electronique              104,8         3046,05       non  \n",
       "2          Carte bancaire               59,6          2970,3       oui  \n",
       "3     Cheque electronique              99,35         4749,15       non  \n",
       "4     Cheque electronique              80,65          144,15       non  \n",
       "...                   ...                ...             ...       ...  \n",
       "1052    Virement bancaire               44,2          403,35       non  \n",
       "1053       Carte bancaire                 60          3316,1       oui  \n",
       "1054  Cheque electronique              60,65           743,3       oui  \n",
       "1055       Carte bancaire              103,2          7362,9       oui  \n",
       "1056    Virement bancaire             105,65          6844,5       non  \n",
       "\n",
       "[1057 rows x 15 columns]"
      ]
     },
     "execution_count": 147,
     "metadata": {},
     "output_type": "execute_result"
    }
   ],
   "source": [
    "eval"
   ]
  },
  {
   "cell_type": "markdown",
   "id": "380d7796",
   "metadata": {},
   "source": [
    "Apres l'évaluation du test  sur une nouvelle base de donnée, nous obtenons ce resultat"
   ]
  },
  {
   "cell_type": "code",
   "execution_count": 112,
   "id": "a04337b0",
   "metadata": {},
   "outputs": [
    {
     "name": "stderr",
     "output_type": "stream",
     "text": [
      "C:\\Users\\22177\\AppData\\Local\\Temp\\ipykernel_4440\\726532857.py:2: UserWarning: Pandas requires version '3.0.5' or newer of 'xlsxwriter' (version '3.0.3' currently installed).\n",
      "  eval.to_excel('C:/Users/22177/Documents/Management_datascience/prevision.xlsx')\n"
     ]
    }
   ],
   "source": [
    "# enregistrement dans un fichier excel\n",
    "eval.to_excel('C:/Users/22177/Documents/Management_datascience/prevision.xlsx')"
   ]
  },
  {
   "cell_type": "markdown",
   "id": "c5467a6b",
   "metadata": {},
   "source": [
    "On apporter une solution sur le désabonnement des clients, on se focalise sur les variables (type de contrat, la disponibilité de l'internet et l'ancienneté)"
   ]
  },
  {
   "cell_type": "code",
   "execution_count": 145,
   "id": "de29d6b2",
   "metadata": {},
   "outputs": [],
   "source": [
    "#afficher les client qui se désabonne\n",
    "eval_loc = eval.loc[eval['Desabonne'] == 'oui']"
   ]
  },
  {
   "cell_type": "code",
   "execution_count": 146,
   "id": "7d2a2095",
   "metadata": {},
   "outputs": [
    {
     "data": {
      "text/html": [
       "<div>\n",
       "<style scoped>\n",
       "    .dataframe tbody tr th:only-of-type {\n",
       "        vertical-align: middle;\n",
       "    }\n",
       "\n",
       "    .dataframe tbody tr th {\n",
       "        vertical-align: top;\n",
       "    }\n",
       "\n",
       "    .dataframe thead th {\n",
       "        text-align: right;\n",
       "    }\n",
       "</style>\n",
       "<table border=\"1\" class=\"dataframe\">\n",
       "  <thead>\n",
       "    <tr style=\"text-align: right;\">\n",
       "      <th></th>\n",
       "      <th>ID</th>\n",
       "      <th>Genre</th>\n",
       "      <th>Senior</th>\n",
       "      <th>Enfants</th>\n",
       "      <th>Anciennete</th>\n",
       "      <th>Multi-lignes</th>\n",
       "      <th>Service Internet</th>\n",
       "      <th>Autres Services</th>\n",
       "      <th>Contrat</th>\n",
       "      <th>Facturation electronique</th>\n",
       "      <th>Partenaire</th>\n",
       "      <th>Mode de paiement</th>\n",
       "      <th>charges mensuelles</th>\n",
       "      <th>Charges totales</th>\n",
       "      <th>Desabonne</th>\n",
       "    </tr>\n",
       "  </thead>\n",
       "  <tbody>\n",
       "    <tr>\n",
       "      <th>2</th>\n",
       "      <td>25</td>\n",
       "      <td>Homme</td>\n",
       "      <td>0</td>\n",
       "      <td>Oui</td>\n",
       "      <td>49</td>\n",
       "      <td>Non</td>\n",
       "      <td>DSL</td>\n",
       "      <td>Oui</td>\n",
       "      <td>Mensuel</td>\n",
       "      <td>Non</td>\n",
       "      <td>Oui</td>\n",
       "      <td>Carte bancaire</td>\n",
       "      <td>59,6</td>\n",
       "      <td>2970,3</td>\n",
       "      <td>oui</td>\n",
       "    </tr>\n",
       "    <tr>\n",
       "      <th>16</th>\n",
       "      <td>141</td>\n",
       "      <td>Femme</td>\n",
       "      <td>1</td>\n",
       "      <td>Oui</td>\n",
       "      <td>72</td>\n",
       "      <td>Oui</td>\n",
       "      <td>DSL</td>\n",
       "      <td>Oui</td>\n",
       "      <td>Bisannuel</td>\n",
       "      <td>Oui</td>\n",
       "      <td>Oui</td>\n",
       "      <td>Carte bancaire</td>\n",
       "      <td>88,05</td>\n",
       "      <td>6425,65</td>\n",
       "      <td>oui</td>\n",
       "    </tr>\n",
       "    <tr>\n",
       "      <th>17</th>\n",
       "      <td>144</td>\n",
       "      <td>Homme</td>\n",
       "      <td>0</td>\n",
       "      <td>Non</td>\n",
       "      <td>64</td>\n",
       "      <td>Oui</td>\n",
       "      <td>Fibre optique</td>\n",
       "      <td>Oui</td>\n",
       "      <td>Annuel</td>\n",
       "      <td>Oui</td>\n",
       "      <td>Non</td>\n",
       "      <td>Carte bancaire</td>\n",
       "      <td>84,3</td>\n",
       "      <td>5289,05</td>\n",
       "      <td>oui</td>\n",
       "    </tr>\n",
       "    <tr>\n",
       "      <th>37</th>\n",
       "      <td>243</td>\n",
       "      <td>Femme</td>\n",
       "      <td>0</td>\n",
       "      <td>Oui</td>\n",
       "      <td>41</td>\n",
       "      <td>Non</td>\n",
       "      <td>DSL</td>\n",
       "      <td>Oui</td>\n",
       "      <td>Annuel</td>\n",
       "      <td>Oui</td>\n",
       "      <td>Oui</td>\n",
       "      <td>Carte bancaire</td>\n",
       "      <td>74,7</td>\n",
       "      <td>3187,65</td>\n",
       "      <td>oui</td>\n",
       "    </tr>\n",
       "    <tr>\n",
       "      <th>57</th>\n",
       "      <td>380</td>\n",
       "      <td>Homme</td>\n",
       "      <td>0</td>\n",
       "      <td>Non</td>\n",
       "      <td>17</td>\n",
       "      <td>Oui</td>\n",
       "      <td>Fibre optique</td>\n",
       "      <td>Oui</td>\n",
       "      <td>Annuel</td>\n",
       "      <td>Non</td>\n",
       "      <td>Non</td>\n",
       "      <td>Cheque electronique</td>\n",
       "      <td>86,75</td>\n",
       "      <td>1410,25</td>\n",
       "      <td>oui</td>\n",
       "    </tr>\n",
       "    <tr>\n",
       "      <th>...</th>\n",
       "      <td>...</td>\n",
       "      <td>...</td>\n",
       "      <td>...</td>\n",
       "      <td>...</td>\n",
       "      <td>...</td>\n",
       "      <td>...</td>\n",
       "      <td>...</td>\n",
       "      <td>...</td>\n",
       "      <td>...</td>\n",
       "      <td>...</td>\n",
       "      <td>...</td>\n",
       "      <td>...</td>\n",
       "      <td>...</td>\n",
       "      <td>...</td>\n",
       "      <td>...</td>\n",
       "    </tr>\n",
       "    <tr>\n",
       "      <th>1045</th>\n",
       "      <td>6986</td>\n",
       "      <td>Homme</td>\n",
       "      <td>0</td>\n",
       "      <td>Oui</td>\n",
       "      <td>37</td>\n",
       "      <td>Non</td>\n",
       "      <td>DSL</td>\n",
       "      <td>Non</td>\n",
       "      <td>Annuel</td>\n",
       "      <td>Oui</td>\n",
       "      <td>Oui</td>\n",
       "      <td>Cheque electronique</td>\n",
       "      <td>40,2</td>\n",
       "      <td>1525,35</td>\n",
       "      <td>oui</td>\n",
       "    </tr>\n",
       "    <tr>\n",
       "      <th>1047</th>\n",
       "      <td>6990</td>\n",
       "      <td>Femme</td>\n",
       "      <td>0</td>\n",
       "      <td>Oui</td>\n",
       "      <td>20</td>\n",
       "      <td>Oui</td>\n",
       "      <td>DSL</td>\n",
       "      <td>Oui</td>\n",
       "      <td>Annuel</td>\n",
       "      <td>Non</td>\n",
       "      <td>Oui</td>\n",
       "      <td>Virement bancaire</td>\n",
       "      <td>76</td>\n",
       "      <td>1588,75</td>\n",
       "      <td>oui</td>\n",
       "    </tr>\n",
       "    <tr>\n",
       "      <th>1053</th>\n",
       "      <td>7032</td>\n",
       "      <td>Homme</td>\n",
       "      <td>1</td>\n",
       "      <td>Non</td>\n",
       "      <td>55</td>\n",
       "      <td>Oui</td>\n",
       "      <td>DSL</td>\n",
       "      <td>Oui</td>\n",
       "      <td>Annuel</td>\n",
       "      <td>Non</td>\n",
       "      <td>Oui</td>\n",
       "      <td>Carte bancaire</td>\n",
       "      <td>60</td>\n",
       "      <td>3316,1</td>\n",
       "      <td>oui</td>\n",
       "    </tr>\n",
       "    <tr>\n",
       "      <th>1054</th>\n",
       "      <td>7037</td>\n",
       "      <td>Femme</td>\n",
       "      <td>0</td>\n",
       "      <td>Non</td>\n",
       "      <td>12</td>\n",
       "      <td>Non</td>\n",
       "      <td>DSL</td>\n",
       "      <td>Non</td>\n",
       "      <td>Annuel</td>\n",
       "      <td>Non</td>\n",
       "      <td>Non</td>\n",
       "      <td>Cheque electronique</td>\n",
       "      <td>60,65</td>\n",
       "      <td>743,3</td>\n",
       "      <td>oui</td>\n",
       "    </tr>\n",
       "    <tr>\n",
       "      <th>1055</th>\n",
       "      <td>7040</td>\n",
       "      <td>Femme</td>\n",
       "      <td>0</td>\n",
       "      <td>Oui</td>\n",
       "      <td>72</td>\n",
       "      <td>Oui</td>\n",
       "      <td>Fibre optique</td>\n",
       "      <td>Oui</td>\n",
       "      <td>Annuel</td>\n",
       "      <td>Oui</td>\n",
       "      <td>Oui</td>\n",
       "      <td>Carte bancaire</td>\n",
       "      <td>103,2</td>\n",
       "      <td>7362,9</td>\n",
       "      <td>oui</td>\n",
       "    </tr>\n",
       "  </tbody>\n",
       "</table>\n",
       "<p>226 rows × 15 columns</p>\n",
       "</div>"
      ],
      "text/plain": [
       "        ID  Genre  Senior Enfants  Anciennete Multi-lignes Service Internet  \\\n",
       "2       25  Homme       0     Oui          49          Non              DSL   \n",
       "16     141  Femme       1     Oui          72          Oui              DSL   \n",
       "17     144  Homme       0     Non          64          Oui    Fibre optique   \n",
       "37     243  Femme       0     Oui          41          Non              DSL   \n",
       "57     380  Homme       0     Non          17          Oui    Fibre optique   \n",
       "...    ...    ...     ...     ...         ...          ...              ...   \n",
       "1045  6986  Homme       0     Oui          37          Non              DSL   \n",
       "1047  6990  Femme       0     Oui          20          Oui              DSL   \n",
       "1053  7032  Homme       1     Non          55          Oui              DSL   \n",
       "1054  7037  Femme       0     Non          12          Non              DSL   \n",
       "1055  7040  Femme       0     Oui          72          Oui    Fibre optique   \n",
       "\n",
       "     Autres Services    Contrat Facturation electronique Partenaire  \\\n",
       "2                Oui    Mensuel                      Non        Oui   \n",
       "16               Oui  Bisannuel                      Oui        Oui   \n",
       "17               Oui     Annuel                      Oui        Non   \n",
       "37               Oui     Annuel                      Oui        Oui   \n",
       "57               Oui     Annuel                      Non        Non   \n",
       "...              ...        ...                      ...        ...   \n",
       "1045             Non     Annuel                      Oui        Oui   \n",
       "1047             Oui     Annuel                      Non        Oui   \n",
       "1053             Oui     Annuel                      Non        Oui   \n",
       "1054             Non     Annuel                      Non        Non   \n",
       "1055             Oui     Annuel                      Oui        Oui   \n",
       "\n",
       "         Mode de paiement charges mensuelles Charges totales Desabonne  \n",
       "2          Carte bancaire               59,6          2970,3       oui  \n",
       "16         Carte bancaire              88,05         6425,65       oui  \n",
       "17         Carte bancaire               84,3         5289,05       oui  \n",
       "37         Carte bancaire               74,7         3187,65       oui  \n",
       "57    Cheque electronique              86,75         1410,25       oui  \n",
       "...                   ...                ...             ...       ...  \n",
       "1045  Cheque electronique               40,2         1525,35       oui  \n",
       "1047    Virement bancaire                 76         1588,75       oui  \n",
       "1053       Carte bancaire                 60          3316,1       oui  \n",
       "1054  Cheque electronique              60,65           743,3       oui  \n",
       "1055       Carte bancaire              103,2          7362,9       oui  \n",
       "\n",
       "[226 rows x 15 columns]"
      ]
     },
     "execution_count": 146,
     "metadata": {},
     "output_type": "execute_result"
    }
   ],
   "source": [
    "eval_loc"
   ]
  },
  {
   "cell_type": "markdown",
   "id": "0c69dcfe",
   "metadata": {},
   "source": [
    "## Analyse descriptive sur la base de données d'évalution en se basant seulement sur les clients désabonnés\n",
    "\n",
    "Pour prendre des décisions basées sur le tableau des clients désabonnés, nous devons analyser les différentes caractéristiques et identifier les facteurs communs ou les tendances qui pourraient expliquer pourquoi ces clients ont décidé de se désabonner. Voici une approche structurée pour cette analyse et les actions potentielles :\n",
    "\n",
    "### Analyse des caractéristiques :\n",
    "\n",
    "1. **Ancienneté** :\n",
    "   - Les clients désabonnés ont une ancienneté variée, mais on peut remarquer plusieurs clients avec une ancienneté relativement longue (par exemple, 72 mois).\n",
    "\n",
    "2. **Type de contrat** :\n",
    "   - Plusieurs clients désabonnés ont des contrats annuels ou bisannuels. Cela peut indiquer des problèmes avec des engagements à long terme.\n",
    "\n",
    "3. **Multi-lignes et Service Internet** :\n",
    "   - La plupart des clients désabonnés utilisent le service DSL plutôt que la fibre optique.\n",
    "   - Une partie notable des clients désabonnés n'ont pas de service multi-lignes.\n",
    "\n",
    "4. **Facturation et mode de paiement** :\n",
    "   - La facturation électronique est courante chez les clients désabonnés, mais certains préfèrent le chèque électronique ou le virement bancaire.\n",
    "   - Le mode de paiement préféré est la carte bancaire.\n",
    "\n",
    "5. **Charges mensuelles** :\n",
    "   - Les charges mensuelles varient considérablement, mais certaines sont relativement élevées (plus de 80).\n",
    "\n",
    "6. **Présence d'enfants** :\n",
    "   - La présence d'enfants n'est pas un facteur déterminant, car il y a une répartition équilibrée entre les clients ayant ou non des enfants.\n",
    "\n",
    "### Décisions à prendre :\n",
    "\n",
    "1. **Analyse des contrats à long terme** :\n",
    "   - Réviser les conditions des contrats annuels et bisannuels. Proposer des options plus flexibles ou des périodes d'essai pour ces clients.\n",
    "   - Offrir des incitations pour les clients avec des contrats annuels afin de les fidéliser.\n",
    "\n",
    "2. **Amélioration du service DSL** :\n",
    "   - Améliorer la qualité du service DSL ou encourager la migration vers la fibre optique avec des promotions.\n",
    "   - Offrir des remises ou des avantages pour les clients utilisant encore le DSL.\n",
    "\n",
    "3. **Multi-lignes et services supplémentaires** :\n",
    "   - Encourager l'adoption des services multi-lignes et autres services supplémentaires en offrant des réductions groupées.\n",
    "   - Identifier les raisons pour lesquelles les clients n'utilisent pas les services multi-lignes et les adresser.\n",
    "\n",
    "4. **Facturation et modes de paiement** :\n",
    "   - Offrir des options de paiement plus diversifiées et flexibles.\n",
    "   - Simplifier le processus de facturation électronique pour ceux qui le trouvent compliqué.\n",
    "\n",
    "5. **Réduction des charges mensuelles** :\n",
    "   - Proposer des forfaits adaptés pour réduire les charges mensuelles des clients.\n",
    "   - Analyser la corrélation entre les charges mensuelles élevées et le taux de désabonnement et ajuster les tarifs en conséquence.\n",
    "\n",
    "6. **Engagement des clients** :\n",
    "   - Mener des enquêtes de satisfaction pour comprendre les besoins et préoccupations des clients désabonnés.\n",
    "   - Mettre en place un programme de fidélisation pour les clients à haut risque de désabonnement basé sur leur comportement d'utilisation et leurs caractéristiques.\n",
    "\n",
    "\n",
    "En prenant en compte ces analyses et actions, vous pouvez élaborer des stratégies plus ciblées pour améliorer la rétention des clients et réduire le taux de désabonnement.\n"
   ]
  },
  {
   "cell_type": "code",
   "execution_count": null,
   "id": "0ed8288c",
   "metadata": {},
   "outputs": [],
   "source": []
  }
 ],
 "metadata": {
  "kernelspec": {
   "display_name": "Python 3 (ipykernel)",
   "language": "python",
   "name": "python3"
  },
  "language_info": {
   "codemirror_mode": {
    "name": "ipython",
    "version": 3
   },
   "file_extension": ".py",
   "mimetype": "text/x-python",
   "name": "python",
   "nbconvert_exporter": "python",
   "pygments_lexer": "ipython3",
   "version": "3.9.12"
  }
 },
 "nbformat": 4,
 "nbformat_minor": 5
}
